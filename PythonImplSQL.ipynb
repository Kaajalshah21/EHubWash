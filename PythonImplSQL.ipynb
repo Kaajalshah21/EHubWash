{
 "cells": [
  {
   "cell_type": "code",
   "execution_count": 10,
   "id": "ecc9ceab",
   "metadata": {},
   "outputs": [
    {
     "name": "stdout",
     "output_type": "stream",
     "text": [
      "Requirement already satisfied: mysql-connector-python in /Users/umangjain/anaconda3/lib/python3.11/site-packages (8.3.0)\n",
      "Note: you may need to restart the kernel to use updated packages.\n"
     ]
    }
   ],
   "source": [
    " pip install mysql-connector-python"
   ]
  },
  {
   "cell_type": "code",
   "execution_count": 11,
   "id": "701c7ad5",
   "metadata": {},
   "outputs": [],
   "source": [
    "import mysql.connector"
   ]
  },
  {
   "cell_type": "code",
   "execution_count": 12,
   "id": "47ccdbe6",
   "metadata": {},
   "outputs": [
    {
     "name": "stdout",
     "output_type": "stream",
     "text": [
      "Error while connecting to MySQL 1045 (28000): Access denied for user 'root'@'localhost' (using password: YES)\n"
     ]
    },
    {
     "ename": "NameError",
     "evalue": "name 'connection' is not defined",
     "output_type": "error",
     "traceback": [
      "\u001b[0;31m---------------------------------------------------------------------------\u001b[0m",
      "\u001b[0;31mNameError\u001b[0m                                 Traceback (most recent call last)",
      "Cell \u001b[0;32mIn[12], line 30\u001b[0m\n\u001b[1;32m     28\u001b[0m     \u001b[38;5;28mprint\u001b[39m(\u001b[38;5;124m\"\u001b[39m\u001b[38;5;124mError while connecting to MySQL\u001b[39m\u001b[38;5;124m\"\u001b[39m, e)\n\u001b[1;32m     29\u001b[0m \u001b[38;5;28;01mfinally\u001b[39;00m:\n\u001b[0;32m---> 30\u001b[0m     \u001b[38;5;28;01mif\u001b[39;00m (connection\u001b[38;5;241m.\u001b[39mis_connected()):\n\u001b[1;32m     31\u001b[0m         \u001b[38;5;66;03m#cursor.close()\u001b[39;00m\n\u001b[1;32m     32\u001b[0m         \u001b[38;5;66;03m#connection.close()\u001b[39;00m\n\u001b[1;32m     33\u001b[0m         \u001b[38;5;28mprint\u001b[39m(\u001b[38;5;124m\"\u001b[39m\u001b[38;5;124mMySQL connection is connected\u001b[39m\u001b[38;5;124m\"\u001b[39m)\n",
      "\u001b[0;31mNameError\u001b[0m: name 'connection' is not defined"
     ]
    }
   ],
   "source": [
    "\n",
    "import mysql.connector\n",
    "#\n",
    "from mysql.connector import Error\n",
    "#\n",
    "try:\n",
    "    connection = mysql.connector.connect(host='localhost',\n",
    "                                        database='ehubwash',\n",
    "                                        user='root',\n",
    "                                        password='root',\n",
    "                                        auth_plugin = 'mysql_native_password')\n",
    "    if connection.is_connected():\n",
    "        db_Info = connection.get_server_info()\n",
    "        print(\"Connected to MySQL Server version \", db_Info)\n",
    "        cursor = connection.cursor()\n",
    "        cursor.execute(\"select database();\")\n",
    "        record = cursor.fetchone()\n",
    "        print(\"Your connected to database: \", record)\n",
    "#\n",
    "        sql_select_Query = \"select Name from user;\"\n",
    "        cursor = connection.cursor()\n",
    "        cursor.execute(sql_select_Query)\n",
    "        records = cursor.fetchall()\n",
    "        print(\"Names of all the user :\\n\")\n",
    "        for row in records:\n",
    "            print('Names =',row[0],\"\\n\")\n",
    "#\n",
    "except Error as e:\n",
    "    print(\"Error while connecting to MySQL\", e)\n",
    "finally:\n",
    "    if (connection.is_connected()):\n",
    "        #cursor.close()\n",
    "        #connection.close()\n",
    "        print(\"MySQL connection is connected\")\n",
    "\n"
   ]
  },
  {
   "cell_type": "code",
   "execution_count": null,
   "id": "c38fec06",
   "metadata": {},
   "outputs": [],
   "source": [
    "#Display username whose issue status are InProgress\n",
    "mycursor = connection.cursor()\n",
    "mycursor.execute('''select u.name , h.status \n",
    "                    from user u inner join helpdesk h \n",
    "                    on u.UserID = h.UserID  \n",
    "                    where h.status = 'InProgress';''')\n",
    "\n",
    "myresult = mycursor.fetchall()\n",
    "\n",
    "for x in myresult:\n",
    "  print(x)"
   ]
  },
  {
   "cell_type": "code",
   "execution_count": 5,
   "id": "2ab57f8e",
   "metadata": {},
   "outputs": [
    {
     "ename": "NameError",
     "evalue": "name 'connection' is not defined",
     "output_type": "error",
     "traceback": [
      "\u001b[0;31m---------------------------------------------------------------------------\u001b[0m",
      "\u001b[0;31mNameError\u001b[0m                                 Traceback (most recent call last)",
      "Cell \u001b[0;32mIn[5], line 2\u001b[0m\n\u001b[1;32m      1\u001b[0m \u001b[38;5;66;03m#Display username who is using hubid 20\u001b[39;00m\n\u001b[0;32m----> 2\u001b[0m mycursor \u001b[38;5;241m=\u001b[39m connection\u001b[38;5;241m.\u001b[39mcursor()\n\u001b[1;32m      3\u001b[0m mycursor\u001b[38;5;241m.\u001b[39mexecute(\u001b[38;5;124m'''\u001b[39m\u001b[38;5;124mselect u.name\u001b[39m\n\u001b[1;32m      4\u001b[0m \u001b[38;5;124m                    from user u inner join selecthub s\u001b[39m\n\u001b[1;32m      5\u001b[0m \u001b[38;5;124m                    on u.UserID = s.UserID \u001b[39m\n\u001b[1;32m      6\u001b[0m \u001b[38;5;124m                    where s.HubID = 20;\u001b[39m\u001b[38;5;124m'''\u001b[39m)\n\u001b[1;32m      8\u001b[0m myresult \u001b[38;5;241m=\u001b[39m mycursor\u001b[38;5;241m.\u001b[39mfetchall()\n",
      "\u001b[0;31mNameError\u001b[0m: name 'connection' is not defined"
     ]
    }
   ],
   "source": [
    "#Display username who is using hubid 20\n",
    "mycursor = connection.cursor()\n",
    "mycursor.execute('''select u.name\n",
    "                    from user u inner join selecthub s\n",
    "                    on u.UserID = s.UserID \n",
    "                    where s.HubID = 20;''')\n",
    "\n",
    "myresult = mycursor.fetchall()\n",
    "\n",
    "for x in myresult:\n",
    "  print(x)"
   ]
  },
  {
   "cell_type": "code",
   "execution_count": 6,
   "id": "fe92790d",
   "metadata": {},
   "outputs": [],
   "source": [
    "import pandas as pd\n"
   ]
  },
  {
   "cell_type": "code",
   "execution_count": 7,
   "id": "75279619",
   "metadata": {},
   "outputs": [
    {
     "ename": "NameError",
     "evalue": "name 'connection' is not defined",
     "output_type": "error",
     "traceback": [
      "\u001b[0;31m---------------------------------------------------------------------------\u001b[0m",
      "\u001b[0;31mNameError\u001b[0m                                 Traceback (most recent call last)",
      "Cell \u001b[0;32mIn[7], line 1\u001b[0m\n\u001b[0;32m----> 1\u001b[0m connection\n",
      "\u001b[0;31mNameError\u001b[0m: name 'connection' is not defined"
     ]
    }
   ],
   "source": [
    "connection"
   ]
  },
  {
   "cell_type": "code",
   "execution_count": 13,
   "id": "9556aa8b",
   "metadata": {},
   "outputs": [
    {
     "name": "stderr",
     "output_type": "stream",
     "text": [
      "C:\\Users\\agane\\AppData\\Local\\Temp\\ipykernel_8088\\1421664824.py:1: UserWarning: pandas only supports SQLAlchemy connectable (engine/connection) or database string URI or sqlite3 DBAPI2 connection. Other DBAPI2 objects are not tested. Please consider using SQLAlchemy.\n",
      "  df = pd.read_sql_query(\"SELECT * FROM helpdesk\", connection)\n"
     ]
    },
    {
     "data": {
      "text/html": [
       "<div>\n",
       "<style scoped>\n",
       "    .dataframe tbody tr th:only-of-type {\n",
       "        vertical-align: middle;\n",
       "    }\n",
       "\n",
       "    .dataframe tbody tr th {\n",
       "        vertical-align: top;\n",
       "    }\n",
       "\n",
       "    .dataframe thead th {\n",
       "        text-align: right;\n",
       "    }\n",
       "</style>\n",
       "<table border=\"1\" class=\"dataframe\">\n",
       "  <thead>\n",
       "    <tr style=\"text-align: right;\">\n",
       "      <th></th>\n",
       "      <th>HelpdeskID</th>\n",
       "      <th>UserID</th>\n",
       "      <th>Issue</th>\n",
       "      <th>Status</th>\n",
       "    </tr>\n",
       "  </thead>\n",
       "  <tbody>\n",
       "    <tr>\n",
       "      <th>0</th>\n",
       "      <td>1</td>\n",
       "      <td>78</td>\n",
       "      <td>Etiam imperdiet dictum magna. Ut tincidunt orc...</td>\n",
       "      <td>resolved</td>\n",
       "    </tr>\n",
       "    <tr>\n",
       "      <th>1</th>\n",
       "      <td>2</td>\n",
       "      <td>4</td>\n",
       "      <td>neque. In ornare sagittis felis. Donec tempor,...</td>\n",
       "      <td>open</td>\n",
       "    </tr>\n",
       "    <tr>\n",
       "      <th>2</th>\n",
       "      <td>3</td>\n",
       "      <td>84</td>\n",
       "      <td>vel, convallis in, cursus et, eros. Proin ultr...</td>\n",
       "      <td>resolved</td>\n",
       "    </tr>\n",
       "    <tr>\n",
       "      <th>3</th>\n",
       "      <td>4</td>\n",
       "      <td>57</td>\n",
       "      <td>massa lobortis ultrices. Vivamus rhoncus. Done...</td>\n",
       "      <td>resolved</td>\n",
       "    </tr>\n",
       "    <tr>\n",
       "      <th>4</th>\n",
       "      <td>5</td>\n",
       "      <td>57</td>\n",
       "      <td>et magnis dis parturient montes, nascetur ridi...</td>\n",
       "      <td>resolved</td>\n",
       "    </tr>\n",
       "    <tr>\n",
       "      <th>5</th>\n",
       "      <td>6</td>\n",
       "      <td>49</td>\n",
       "      <td>mollis. Phasellus libero mauris, aliquam eu, a...</td>\n",
       "      <td>closed</td>\n",
       "    </tr>\n",
       "    <tr>\n",
       "      <th>6</th>\n",
       "      <td>7</td>\n",
       "      <td>67</td>\n",
       "      <td>Vestibulum ante ipsum primis in faucibus orci ...</td>\n",
       "      <td>closed</td>\n",
       "    </tr>\n",
       "    <tr>\n",
       "      <th>7</th>\n",
       "      <td>8</td>\n",
       "      <td>67</td>\n",
       "      <td>iaculis nec, eleifend non, dapibus rutrum, jus...</td>\n",
       "      <td>InProgress</td>\n",
       "    </tr>\n",
       "    <tr>\n",
       "      <th>8</th>\n",
       "      <td>9</td>\n",
       "      <td>36</td>\n",
       "      <td>erat. Sed nunc est, mollis non, cursus non, eg...</td>\n",
       "      <td>open</td>\n",
       "    </tr>\n",
       "    <tr>\n",
       "      <th>9</th>\n",
       "      <td>10</td>\n",
       "      <td>35</td>\n",
       "      <td>diam luctus lobortis. Class aptent taciti soci...</td>\n",
       "      <td>resolved</td>\n",
       "    </tr>\n",
       "  </tbody>\n",
       "</table>\n",
       "</div>"
      ],
      "text/plain": [
       "   HelpdeskID  UserID                                              Issue  \\\n",
       "0           1      78  Etiam imperdiet dictum magna. Ut tincidunt orc...   \n",
       "1           2       4  neque. In ornare sagittis felis. Donec tempor,...   \n",
       "2           3      84  vel, convallis in, cursus et, eros. Proin ultr...   \n",
       "3           4      57  massa lobortis ultrices. Vivamus rhoncus. Done...   \n",
       "4           5      57  et magnis dis parturient montes, nascetur ridi...   \n",
       "5           6      49  mollis. Phasellus libero mauris, aliquam eu, a...   \n",
       "6           7      67  Vestibulum ante ipsum primis in faucibus orci ...   \n",
       "7           8      67  iaculis nec, eleifend non, dapibus rutrum, jus...   \n",
       "8           9      36  erat. Sed nunc est, mollis non, cursus non, eg...   \n",
       "9          10      35  diam luctus lobortis. Class aptent taciti soci...   \n",
       "\n",
       "       Status  \n",
       "0    resolved  \n",
       "1        open  \n",
       "2    resolved  \n",
       "3    resolved  \n",
       "4    resolved  \n",
       "5      closed  \n",
       "6      closed  \n",
       "7  InProgress  \n",
       "8        open  \n",
       "9    resolved  "
      ]
     },
     "execution_count": 13,
     "metadata": {},
     "output_type": "execute_result"
    }
   ],
   "source": [
    "df = pd.read_sql_query(\"SELECT * FROM helpdesk\", connection)\n",
    "df.head(10)\n"
   ]
  },
  {
   "cell_type": "code",
   "execution_count": 14,
   "id": "95d011bb",
   "metadata": {},
   "outputs": [],
   "source": [
    "import pandas as pd\n",
    "import seaborn as sns\n",
    "import matplotlib.pyplot as plt"
   ]
  },
  {
   "cell_type": "code",
   "execution_count": 16,
   "id": "05832c85",
   "metadata": {},
   "outputs": [
    {
     "data": {
      "image/png": "[encoded data removed]",
      "text/plain": [
       "<Figure size 640x480 with 1 Axes>"
      ]
     },
     "metadata": {},
     "output_type": "display_data"
    }
   ],
   "source": [
    "status_counts = df.groupby('Status')['Status'].count().sort_values(ascending=False)\n",
    "# Extract vehicle types and counts for the pie chart\n",
    "status_types = status_counts.index.to_numpy()\n",
    "status_counts = status_counts.to_numpy()\n",
    "# Create the pie chart\n",
    "plt.pie(status_counts, labels=status_types, autopct=\"%1.1f%%\")\n",
    "# Add a title\n",
    "plt.title(\"Status of the tickets\")\n",
    "# Display the chart\n",
    "plt.show()"
   ]
  },
  {
   "cell_type": "code",
   "execution_count": 18,
   "id": "1d39d52c",
   "metadata": {},
   "outputs": [
    {
     "name": "stderr",
     "output_type": "stream",
     "text": [
      "C:\\Users\\agane\\AppData\\Local\\Temp\\ipykernel_8088\\156461062.py:1: UserWarning: pandas only supports SQLAlchemy connectable (engine/connection) or database string URI or sqlite3 DBAPI2 connection. Other DBAPI2 objects are not tested. Please consider using SQLAlchemy.\n",
      "  df2 = pd.read_sql_query(\"SELECT * FROM takesorder\", connection)\n"
     ]
    },
    {
     "data": {
      "text/html": [
       "<div>\n",
       "<style scoped>\n",
       "    .dataframe tbody tr th:only-of-type {\n",
       "        vertical-align: middle;\n",
       "    }\n",
       "\n",
       "    .dataframe tbody tr th {\n",
       "        vertical-align: top;\n",
       "    }\n",
       "\n",
       "    .dataframe thead th {\n",
       "        text-align: right;\n",
       "    }\n",
       "</style>\n",
       "<table border=\"1\" class=\"dataframe\">\n",
       "  <thead>\n",
       "    <tr style=\"text-align: right;\">\n",
       "      <th></th>\n",
       "      <th>OrderID</th>\n",
       "      <th>HubID</th>\n",
       "    </tr>\n",
       "  </thead>\n",
       "  <tbody>\n",
       "    <tr>\n",
       "      <th>0</th>\n",
       "      <td>26</td>\n",
       "      <td>2</td>\n",
       "    </tr>\n",
       "    <tr>\n",
       "      <th>1</th>\n",
       "      <td>33</td>\n",
       "      <td>3</td>\n",
       "    </tr>\n",
       "    <tr>\n",
       "      <th>2</th>\n",
       "      <td>55</td>\n",
       "      <td>3</td>\n",
       "    </tr>\n",
       "    <tr>\n",
       "      <th>3</th>\n",
       "      <td>23</td>\n",
       "      <td>4</td>\n",
       "    </tr>\n",
       "    <tr>\n",
       "      <th>4</th>\n",
       "      <td>39</td>\n",
       "      <td>4</td>\n",
       "    </tr>\n",
       "    <tr>\n",
       "      <th>5</th>\n",
       "      <td>29</td>\n",
       "      <td>7</td>\n",
       "    </tr>\n",
       "    <tr>\n",
       "      <th>6</th>\n",
       "      <td>52</td>\n",
       "      <td>7</td>\n",
       "    </tr>\n",
       "    <tr>\n",
       "      <th>7</th>\n",
       "      <td>3</td>\n",
       "      <td>8</td>\n",
       "    </tr>\n",
       "    <tr>\n",
       "      <th>8</th>\n",
       "      <td>49</td>\n",
       "      <td>8</td>\n",
       "    </tr>\n",
       "    <tr>\n",
       "      <th>9</th>\n",
       "      <td>52</td>\n",
       "      <td>8</td>\n",
       "    </tr>\n",
       "  </tbody>\n",
       "</table>\n",
       "</div>"
      ],
      "text/plain": [
       "   OrderID  HubID\n",
       "0       26      2\n",
       "1       33      3\n",
       "2       55      3\n",
       "3       23      4\n",
       "4       39      4\n",
       "5       29      7\n",
       "6       52      7\n",
       "7        3      8\n",
       "8       49      8\n",
       "9       52      8"
      ]
     },
     "execution_count": 18,
     "metadata": {},
     "output_type": "execute_result"
    }
   ],
   "source": [
    "df2 = pd.read_sql_query(\"SELECT * FROM takesorder\", connection)\n",
    "df2.head(10)\n"
   ]
  },
  {
   "cell_type": "code",
   "execution_count": 20,
   "id": "88de99bf",
   "metadata": {},
   "outputs": [
    {
     "data": {
      "image/png": "[encoded data removed]",
      "text/plain": [
       "<Figure size 640x480 with 1 Axes>"
      ]
     },
     "metadata": {},
     "output_type": "display_data"
    }
   ],
   "source": [
    "Hub_Order_counts = df2['HubID'].value_counts().sort_index(ascending=True) \n",
    "\n",
    "# Create the bar chart\n",
    "plt.bar(Hub_Order_counts.index, Hub_Order_counts.values ) \n",
    "plt.xlabel('Hub')\n",
    "plt.ylabel('Number of Orders')\n",
    "plt.title('Total Count of Orders received by each hub')\n",
    "plt.xticks(rotation=0) \n",
    "plt.show()"
   ]
  },
  {
   "cell_type": "code",
   "execution_count": 21,
   "id": "f1d9d47b",
   "metadata": {},
   "outputs": [
    {
     "name": "stderr",
     "output_type": "stream",
     "text": [
      "C:\\Users\\agane\\AppData\\Local\\Temp\\ipykernel_8088\\1927049634.py:1: UserWarning: pandas only supports SQLAlchemy connectable (engine/connection) or database string URI or sqlite3 DBAPI2 connection. Other DBAPI2 objects are not tested. Please consider using SQLAlchemy.\n",
      "  df3 = pd.read_sql_query(\"SELECT * FROM Payment\", connection)\n"
     ]
    },
    {
     "data": {
      "text/html": [
       "<div>\n",
       "<style scoped>\n",
       "    .dataframe tbody tr th:only-of-type {\n",
       "        vertical-align: middle;\n",
       "    }\n",
       "\n",
       "    .dataframe tbody tr th {\n",
       "        vertical-align: top;\n",
       "    }\n",
       "\n",
       "    .dataframe thead th {\n",
       "        text-align: right;\n",
       "    }\n",
       "</style>\n",
       "<table border=\"1\" class=\"dataframe\">\n",
       "  <thead>\n",
       "    <tr style=\"text-align: right;\">\n",
       "      <th></th>\n",
       "      <th>PaymentID</th>\n",
       "      <th>OrderID</th>\n",
       "      <th>TotalAmount</th>\n",
       "      <th>PaymentMethod</th>\n",
       "    </tr>\n",
       "  </thead>\n",
       "  <tbody>\n",
       "    <tr>\n",
       "      <th>0</th>\n",
       "      <td>1</td>\n",
       "      <td>19</td>\n",
       "      <td>$28.15</td>\n",
       "      <td>CreditCard</td>\n",
       "    </tr>\n",
       "    <tr>\n",
       "      <th>1</th>\n",
       "      <td>2</td>\n",
       "      <td>4</td>\n",
       "      <td>$21.83</td>\n",
       "      <td>CreditCard</td>\n",
       "    </tr>\n",
       "    <tr>\n",
       "      <th>2</th>\n",
       "      <td>3</td>\n",
       "      <td>59</td>\n",
       "      <td>$39.86</td>\n",
       "      <td>OnlinePayment</td>\n",
       "    </tr>\n",
       "    <tr>\n",
       "      <th>3</th>\n",
       "      <td>4</td>\n",
       "      <td>9</td>\n",
       "      <td>$81.38</td>\n",
       "      <td>DebitCard</td>\n",
       "    </tr>\n",
       "    <tr>\n",
       "      <th>4</th>\n",
       "      <td>5</td>\n",
       "      <td>50</td>\n",
       "      <td>$26.38</td>\n",
       "      <td>DebitCard</td>\n",
       "    </tr>\n",
       "    <tr>\n",
       "      <th>5</th>\n",
       "      <td>6</td>\n",
       "      <td>2</td>\n",
       "      <td>$53.78</td>\n",
       "      <td>DebitCard</td>\n",
       "    </tr>\n",
       "    <tr>\n",
       "      <th>6</th>\n",
       "      <td>7</td>\n",
       "      <td>43</td>\n",
       "      <td>$58.17</td>\n",
       "      <td>BankTransfer</td>\n",
       "    </tr>\n",
       "    <tr>\n",
       "      <th>7</th>\n",
       "      <td>8</td>\n",
       "      <td>14</td>\n",
       "      <td>$24.40</td>\n",
       "      <td>Cash</td>\n",
       "    </tr>\n",
       "    <tr>\n",
       "      <th>8</th>\n",
       "      <td>9</td>\n",
       "      <td>35</td>\n",
       "      <td>$61.42</td>\n",
       "      <td>OnlinePayment</td>\n",
       "    </tr>\n",
       "    <tr>\n",
       "      <th>9</th>\n",
       "      <td>10</td>\n",
       "      <td>1</td>\n",
       "      <td>$19.13</td>\n",
       "      <td>DebitCard</td>\n",
       "    </tr>\n",
       "  </tbody>\n",
       "</table>\n",
       "</div>"
      ],
      "text/plain": [
       "   PaymentID  OrderID TotalAmount  PaymentMethod\n",
       "0          1       19      $28.15     CreditCard\n",
       "1          2        4      $21.83     CreditCard\n",
       "2          3       59      $39.86  OnlinePayment\n",
       "3          4        9      $81.38      DebitCard\n",
       "4          5       50      $26.38      DebitCard\n",
       "5          6        2      $53.78      DebitCard\n",
       "6          7       43      $58.17   BankTransfer\n",
       "7          8       14      $24.40           Cash\n",
       "8          9       35      $61.42  OnlinePayment\n",
       "9         10        1      $19.13      DebitCard"
      ]
     },
     "execution_count": 21,
     "metadata": {},
     "output_type": "execute_result"
    }
   ],
   "source": [
    "df3 = pd.read_sql_query(\"SELECT * FROM Payment\", connection)\n",
    "df3.head(10)"
   ]
  },
  {
   "cell_type": "code",
   "execution_count": 25,
   "id": "5db34aaa",
   "metadata": {},
   "outputs": [
    {
     "data": {
      "image/png": "[encoded data removed]",
      "text/plain": [
       "<Figure size 640x480 with 1 Axes>"
      ]
     },
     "metadata": {},
     "output_type": "display_data"
    }
   ],
   "source": [
    "method_counts = df3['PaymentMethod'].value_counts().sort_index(ascending=True) \n",
    "colors =['yellow', 'orange', 'green', 'blue', 'purple']\n",
    "# Create the bar chart\n",
    "plt.bar(method_counts.index, method_counts.values, color = colors ) \n",
    "plt.xlabel('Types of Payments')\n",
    "plt.ylabel('Number of Payments')\n",
    "plt.title('Different modes of payment')\n",
    "plt.xticks(rotation=0) \n",
    "plt.show()"
   ]
  },
  {
   "cell_type": "code",
   "execution_count": 1,
   "id": "1cad2eb8",
   "metadata": {},
   "outputs": [
    {
     "ename": "NameError",
     "evalue": "name 'df3' is not defined",
     "output_type": "error",
     "traceback": [
      "\u001b[0;31m---------------------------------------------------------------------------\u001b[0m",
      "\u001b[0;31mNameError\u001b[0m                                 Traceback (most recent call last)",
      "Cell \u001b[0;32mIn[1], line 1\u001b[0m\n\u001b[0;32m----> 1\u001b[0m method_counts \u001b[38;5;241m=\u001b[39m df3[\u001b[38;5;124m'\u001b[39m\u001b[38;5;124mPaymentMethod\u001b[39m\u001b[38;5;124m'\u001b[39m]\u001b[38;5;241m.\u001b[39mvalue_counts()\u001b[38;5;241m.\u001b[39msort_index(ascending\u001b[38;5;241m=\u001b[39m\u001b[38;5;28;01mTrue\u001b[39;00m)\n\u001b[1;32m      3\u001b[0m \u001b[38;5;66;03m# Generate x and y data for scatter plot\u001b[39;00m\n\u001b[1;32m      4\u001b[0m x \u001b[38;5;241m=\u001b[39m method_counts\u001b[38;5;241m.\u001b[39mindex\n",
      "\u001b[0;31mNameError\u001b[0m: name 'df3' is not defined"
     ]
    }
   ],
   "source": [
    "method_counts = df3['PaymentMethod'].value_counts().sort_index(ascending=True)\n",
    "\n",
    "# Generate x and y data for scatter plot\n",
    "x = method_counts.index\n",
    "y = method_counts.values\n",
    "\n",
    "# Plot the scatter plot\n",
    "plt.scatter(x, y, color='red')\n",
    "\n",
    "# Add labels and title\n",
    "plt.xlabel('Types of Payments')\n",
    "plt.ylabel('Number of Payments')\n",
    "plt.title('Scatter Plot of Different modes of payment')\n",
    "\n",
    "# Show the plot\n",
    "plt.show()"
   ]
  },
  {
   "cell_type": "code",
   "execution_count": null,
   "id": "ed84d34c",
   "metadata": {},
   "outputs": [],
   "source": []
  }
 ],
 "metadata": {
  "kernelspec": {
   "display_name": "Python 3 (ipykernel)",
   "language": "python",
   "name": "python3"
  },
  "language_info": {
   "codemirror_mode": {
    "name": "ipython",
    "version": 3
   },
   "file_extension": ".py",
   "mimetype": "text/x-python",
   "name": "python",
   "nbconvert_exporter": "python",
   "pygments_lexer": "ipython3",
   "version": "3.11.4"
  }
 },
 "nbformat": 4,
 "nbformat_minor": 5
}
